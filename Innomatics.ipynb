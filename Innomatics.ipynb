{
 "cells": [
  {
   "cell_type": "markdown",
   "id": "cad9e035",
   "metadata": {},
   "source": [
    "# Innomatics Data Science Internship Entrance Test\n",
    "                                                                                     - By Amit Ojahiya"
   ]
  },
  {
   "cell_type": "markdown",
   "id": "9e85efd4",
   "metadata": {},
   "source": [
    "###  Importing all the required libraries   "
   ]
  },
  {
   "cell_type": "code",
   "execution_count": null,
   "id": "69f04534",
   "metadata": {},
   "outputs": [],
   "source": [
    "import pandas as pd \n",
    "import matplotlib.pyplot as plt"
   ]
  },
  {
   "cell_type": "markdown",
   "id": "6aeeb941",
   "metadata": {},
   "source": [
    "### Loading all the Datasets "
   ]
  },
  {
   "cell_type": "code",
   "execution_count": null,
   "id": "2a6d285f",
   "metadata": {},
   "outputs": [],
   "source": [
    "\n",
    "links_data = pd.read_csv('links.csv')\n",
    "movies_data = pd.read_csv('movies.csv')\n",
    "ratings_data = pd.read_csv('ratings.csv')\n",
    "tags_data = pd.read_csv('tags.csv')"
   ]
  },
  {
   "cell_type": "markdown",
   "id": "a262c6f6",
   "metadata": {},
   "source": [
    "### Question 2 : Getting the shape of the movies.csv file "
   ]
  },
  {
   "cell_type": "code",
   "execution_count": null,
   "id": "89fc9557",
   "metadata": {},
   "outputs": [],
   "source": [
    "# By using shape function\n",
    "movies_data.shape"
   ]
  },
  {
   "cell_type": "markdown",
   "id": "5edc2c1e",
   "metadata": {},
   "source": [
    "### Question 3 : Getting the shape of 'ratings.csv' file  "
   ]
  },
  {
   "cell_type": "code",
   "execution_count": null,
   "id": "0109b09c",
   "metadata": {},
   "outputs": [],
   "source": [
    "ratings_data.shape"
   ]
  },
  {
   "cell_type": "markdown",
   "id": "dba8092a",
   "metadata": {},
   "source": [
    "### Question 4 : Getting the number of unique 'userId' from 'ratings_data'  "
   ]
  },
  {
   "cell_type": "code",
   "execution_count": null,
   "id": "cb75264f",
   "metadata": {},
   "outputs": [],
   "source": [
    "# By using nunique() function \n",
    "\n",
    "unique_users = ratings_data['userId'].nunique()\n",
    "\n",
    "unique_users"
   ]
  },
  {
   "cell_type": "markdown",
   "id": "0907773b",
   "metadata": {},
   "source": [
    "### Question 5 : Getting the movie which has recieved max num of user ratings  "
   ]
  },
  {
   "cell_type": "code",
   "execution_count": null,
   "id": "fa534954",
   "metadata": {},
   "outputs": [],
   "source": [
    "# Grouping the ratings by movieId and counting the number of ratings for each movie\n",
    "movie_rating_counts = ratings_data.groupby('movieId').size()\n",
    "\n",
    "# Finding the movie with the maximum number of ratings\n",
    "max_rated_movie_id = movie_rating_counts.idxmax()\n",
    "\n",
    "# Finding the title of the movie with the maximum number of ratings\n",
    "max_rated_movie_title = movies_data[movies_data['movieId'] == max_rated_movie_id]['title'].iloc[0]\n",
    "\n",
    "print(\"Movie with the maximum number of ratings:\", max_rated_movie_title)\n",
    "print(\"Movie ID with the maximum number of ratings:\", max_rated_movie_id)\n"
   ]
  },
  {
   "cell_type": "markdown",
   "id": "e9bf9a18",
   "metadata": {},
   "source": [
    "### Question 6 : Getting all the correct tags submitted by users to \"Matrix, The (1999)\" movie  "
   ]
  },
  {
   "cell_type": "code",
   "execution_count": null,
   "id": "b2c49c48",
   "metadata": {},
   "outputs": [],
   "source": [
    "# Finding the movieId for \"Matrix, The (1999)\"\n",
    "\n",
    "matrix_movie = movies_data[movies_data['title'] == 'Matrix, The (1999)']\n",
    "matrix_movie_id = matrix_movie['movieId'].values[0]\n",
    "\n",
    "# Filtering tags for the movie with its movieId\n",
    "matrix_tags = tags_data[tags_data['movieId'] == matrix_movie_id]\n",
    "\n",
    "# Displaying unique tags for the movie\n",
    "unique_tags = matrix_tags['tag'].unique()\n",
    "print(\"Tags for 'Matrix, The (1999)':\")\n",
    "print(unique_tags)"
   ]
  },
  {
   "cell_type": "markdown",
   "id": "c07688b6",
   "metadata": {},
   "source": [
    "### Question 7 : Getting the avg user rating for the movie named \"Terminator 2: Judgment Day (1991)\" "
   ]
  },
  {
   "cell_type": "code",
   "execution_count": null,
   "id": "86983adf",
   "metadata": {},
   "outputs": [],
   "source": [
    "# Finding the movieId for \"Terminator 2: Judgment Day (1991)\"\n",
    "terminator_movie = movies_data[movies_data['title'] == 'Terminator 2: Judgment Day (1991)']\n",
    "\n",
    "if not terminator_movie.empty:\n",
    "    terminator_movie_id = terminator_movie.iloc[0]['movieId']\n",
    "\n",
    "    # Calculating the average user rating for the movie\n",
    "    average_rating = ratings_data[ratings_data['movieId'] == terminator_movie_id]['rating'].mean()\n",
    "    \n",
    "    print(f\"Average user rating for 'Terminator 2: Judgment Day (1991)': {average_rating:.2f}\")\n",
    "else:\n",
    "    print(\"Movie not found\")"
   ]
  },
  {
   "cell_type": "markdown",
   "id": "e3c8a80e",
   "metadata": {},
   "source": [
    "### Question 8 :  Getting the data distribution of user ratings for \"Fight Club (1999)\" movie"
   ]
  },
  {
   "cell_type": "code",
   "execution_count": null,
   "id": "1246814a",
   "metadata": {},
   "outputs": [],
   "source": [
    "# Finding the movieId for \"Fight Club (1999)\"\n",
    "fight_club_movie = movies_data[movies_data['title'] == 'Fight Club (1999)']\n",
    "\n",
    "if not fight_club_movie.empty:\n",
    "    fight_club_movie_id = fight_club_movie.iloc[0]['movieId']\n",
    "\n",
    "    # Filtering ratings for the movie\n",
    "    fight_club_ratings = ratings_data[ratings_data['movieId'] == fight_club_movie_id]['rating']\n",
    "\n",
    "    # Plotting the histogram of user ratings for \"Fight Club (1999)\"\n",
    "    plt.hist(fight_club_ratings, bins=10, edgecolor='black')\n",
    "    plt.xlabel('Rating')\n",
    "    plt.ylabel('Frequency')\n",
    "    plt.title('User Ratings Distribution for Fight Club (1999)')\n",
    "    plt.show()\n",
    "else:\n",
    "    print(\"Movie not found\")"
   ]
  },
  {
   "cell_type": "markdown",
   "id": "b23cf17c",
   "metadata": {},
   "source": [
    "- The above distribution exhibits **left-skewness**. A left-skewed distribution means that most of the data points are on the right side, and the tail extends towards the left"
   ]
  },
  {
   "cell_type": "markdown",
   "id": "261fa8bc",
   "metadata": {},
   "source": [
    "## Creating a Filtered Dataset using the mentioned Mandatory Operations for solving the futher questions "
   ]
  },
  {
   "cell_type": "code",
   "execution_count": null,
   "id": "f8f61ba8",
   "metadata": {},
   "outputs": [],
   "source": [
    "# Grouping user ratings by movieId and apply count and mean operations\n",
    "grouped_ratings = ratings_data.groupby('movieId')['rating'].agg(['count', 'mean']).reset_index()\n",
    "\n",
    "# Renaming columns for clarity\n",
    "grouped_ratings.columns = ['movieId', 'rating_count', 'rating_mean']\n",
    "\n",
    "# Merging movies data with grouped ratings using inner join\n",
    "merged_data = pd.merge(movies_data, grouped_ratings, on='movieId', how='inner')\n",
    "\n",
    "# Filtering movies with more than 50 user ratings\n",
    "filtered_data = merged_data[merged_data['rating_count'] > 50]\n",
    "\n",
    "# Displaying the resulting dataset\n",
    "filtered_data.head()"
   ]
  },
  {
   "cell_type": "markdown",
   "id": "735ea325",
   "metadata": {},
   "source": [
    "### Question 9 : Getting the most popular movie based on the avg user rating  "
   ]
  },
  {
   "cell_type": "code",
   "execution_count": null,
   "id": "c911519d",
   "metadata": {},
   "outputs": [],
   "source": [
    "# Sorting the filtered dataset by 'rating_mean' in descending order\n",
    "sorted_data = filtered_data.sort_values(by='rating_mean', ascending=False)\n",
    "\n",
    "# Getting the most popular movie (highest average rating)\n",
    "most_popular_movie = sorted_data.iloc[0]\n",
    "\n",
    "print(\"Most popular movie based on average user ratings:\")\n",
    "print(\"Title:\", most_popular_movie['title'])\n",
    "print(\"Average Rating:\", most_popular_movie['rating_mean'])"
   ]
  },
  {
   "cell_type": "markdown",
   "id": "f7bd3d6e",
   "metadata": {},
   "source": [
    "### Question 10 : Getting the top 5 popular movies based on the number of user ratings  "
   ]
  },
  {
   "cell_type": "code",
   "execution_count": null,
   "id": "33d95d12",
   "metadata": {},
   "outputs": [],
   "source": [
    "# Sorting the filtered dataset by 'rating_count' in descending order\n",
    "sorted_by_ratings_count = filtered_data.sort_values(by='rating_count', ascending=False)\n",
    "\n",
    "# Getting the top 5 popular movies based on number of user ratings\n",
    "top_5_popular_movies = sorted_by_ratings_count.head(5)\n",
    "\n",
    "# Displaying the titles of the top 5 popular movies\n",
    "print(\"Top 5 popular movies based on number of user ratings:\")\n",
    "print(top_5_popular_movies[['title', 'rating_count']])"
   ]
  },
  {
   "cell_type": "markdown",
   "id": "fdac1472",
   "metadata": {},
   "source": [
    "### Question 11 : Getting the 3rd most popular Sci-Fi movie based on the number of user ratings  "
   ]
  },
  {
   "cell_type": "code",
   "execution_count": null,
   "id": "c4079dcb",
   "metadata": {},
   "outputs": [],
   "source": [
    "# Filtering the dataset for Sci-Fi movies\n",
    "sci_fi_movies = filtered_data[filtered_data['genres'].str.contains('Sci-Fi')]\n",
    "\n",
    "# Sorting the Sci-Fi movies by 'rating_count' in descending order\n",
    "sorted_sci_fi_by_ratings = sci_fi_movies.sort_values(by='rating_count', ascending=False)\n",
    "\n",
    "# Getting the third most popular Sci-Fi movie based on number of user ratings\n",
    "third_most_popular_sci_fi = sorted_sci_fi_by_ratings.iloc[2]  # Index 2 for the third movie (0-indexed)\n",
    "\n",
    "print(\"Third most popular Sci-Fi movie based on number of user ratings:\")\n",
    "print(\"Title:\", third_most_popular_sci_fi['title'])\n",
    "print(\"Number of User Ratings:\", third_most_popular_sci_fi['rating_count'])"
   ]
  },
  {
   "cell_type": "markdown",
   "id": "1921e094",
   "metadata": {},
   "source": [
    "### Performing WebScraping for getting the IMDB Reviews columns in the filtered dataset "
   ]
  },
  {
   "cell_type": "code",
   "execution_count": null,
   "id": "2f7c5bee",
   "metadata": {
    "scrolled": true
   },
   "outputs": [],
   "source": [
    "# First we merged our filtered_data with the 'imdbId' col of the links_data \n",
    "\n",
    "# Merge filtered_data with links_data\n",
    "filtered_data_with_imdb = pd.merge(filtered_data, links_data[['movieId', 'imdbId']], on='movieId', how='left')\n",
    "\n",
    "# Display the resulting dataset with the new 'imdbId' column\n",
    "filtered_data_with_imdb.head()"
   ]
  },
  {
   "cell_type": "code",
   "execution_count": null,
   "id": "dfbdb825",
   "metadata": {},
   "outputs": [],
   "source": [
    "import requests\n",
    "import numpy as np\n",
    "from bs4 import BeautifulSoup  \n",
    "def scrapper(imdbId):\n",
    "    id = str(int(imdbId))\n",
    "    n_zeroes = 7 - len(id)\n",
    "    new_id = \"0\"*n_zeroes + id\n",
    "    URL = f\"https://www.imdb.com/title/tt{new_id}/\"\n",
    "    request_header = {'Content-Type': 'text/html; charset=UTF-8', \n",
    "                      'User-Agent': 'Mozilla/5.0 (Windows NT 10.0; Win64; x64; rv:109.0) Gecko/20100101 Firefox/119.0', \n",
    "                      'Accept-Encoding': 'gzip, deflate, br'}\n",
    "    response = requests.get(URL, headers=request_header)  \n",
    "    soup = BeautifulSoup(response.text, 'html.parser')  \n",
    "    imdb_rating = soup.find('span', {'itemprop': 'ratingValue'})  \n",
    "    return imdb_rating.text if imdb_rating else np.nan\n"
   ]
  },
  {
   "cell_type": "markdown",
   "id": "b0f2130b",
   "metadata": {},
   "source": [
    "Since this method is generating an error, let's attempt a different approach."
   ]
  },
  {
   "cell_type": "markdown",
   "id": "04e0b55c",
   "metadata": {},
   "source": [
    "* We'll bring in the IMDB Dataset and conduct data cleaning to retain the necessary columns only."
   ]
  },
  {
   "cell_type": "code",
   "execution_count": null,
   "id": "868bc76c",
   "metadata": {},
   "outputs": [],
   "source": [
    "# Reading the imdb dataset \n",
    "\n",
    "imdb = pd.read_csv('imdb.csv')\n",
    "\n",
    "imdb.head()"
   ]
  },
  {
   "cell_type": "code",
   "execution_count": null,
   "id": "5cde062e",
   "metadata": {},
   "outputs": [],
   "source": [
    "# Displaying the columns present in the above dataset \n",
    "\n",
    "imdb.columns"
   ]
  },
  {
   "cell_type": "markdown",
   "id": "748f4668",
   "metadata": {},
   "source": [
    "- For solving the remaning questions we only need **'Series_Title'**, **'Genre'**, and **'IMDB_RATING'** columns "
   ]
  },
  {
   "cell_type": "code",
   "execution_count": null,
   "id": "9f7a1f25",
   "metadata": {},
   "outputs": [],
   "source": [
    "# Creating a new DataFrame with only the specified columns\n",
    "imdb_data_filtered = imdb[['Series_Title', 'Genre', 'IMDB_Rating']]\n",
    "\n",
    "# Displaying the filtered IMDb dataset\n",
    "imdb_data_filtered.head()"
   ]
  },
  {
   "cell_type": "markdown",
   "id": "67c91986",
   "metadata": {},
   "source": [
    "### Question 12 : Getting the 'movieId' of the movie which has the highest IMDB Rating  "
   ]
  },
  {
   "cell_type": "markdown",
   "id": "20b1f73f",
   "metadata": {},
   "source": [
    "- Approach :  We can get the highest IMDB Rating movie from  the 'imdb_data_filtered' dataset and corresponding find its 'movieId' from the 'filtered_data_with_imdb' dataset"
   ]
  },
  {
   "cell_type": "code",
   "execution_count": null,
   "id": "f60d1b5e",
   "metadata": {},
   "outputs": [],
   "source": [
    "highest_rating = imdb_data_filtered['IMDB_Rating'].max()\n",
    "highest_rated_movies = imdb_data_filtered[imdb_data_filtered['IMDB_Rating'] == highest_rating]\n",
    "\n",
    "\n",
    "highest_rated_movie_names = highest_rated_movies['Series_Title']\n",
    "\n",
    "print(f\"The name of the movie with the highest rating ({highest_rating}):\")\n",
    "print(highest_rated_movie_names)"
   ]
  },
  {
   "cell_type": "markdown",
   "id": "d2801169",
   "metadata": {},
   "source": [
    "- So, The Shawshank Redemption is the highest IMDB Rated movie\n",
    "\n",
    "Now, to gets its movieId from the movies_data dataset or filtered_data_with_imdb dataset"
   ]
  },
  {
   "cell_type": "code",
   "execution_count": null,
   "id": "d0fe79d7",
   "metadata": {},
   "outputs": [],
   "source": [
    "movie_id_shawshank = filtered_data_with_imdb.loc[filtered_data_with_imdb['title'] == 'Shawshank Redemption, The (1994)', 'movieId'].values[0]\n",
    "\n",
    "print(f\"The 'movieId' of 'Shawshank Redemption, The (1994)' is: {movie_id_shawshank}\")\n"
   ]
  },
  {
   "cell_type": "markdown",
   "id": "062d4044",
   "metadata": {},
   "source": [
    "### Question 13 : Getting the 'movieId' of the 'Sci-Fi' movie which has the highest IMDB Rating  "
   ]
  },
  {
   "cell_type": "markdown",
   "id": "a7b4ce88",
   "metadata": {},
   "source": [
    "* Approach : We can get the highest IMDB Rating Sci-Fi movie from the 'imdb_data_filtered' dataset and corresponding find its 'movieId' from the 'filtered_data_with_imdb' dataset"
   ]
  },
  {
   "cell_type": "code",
   "execution_count": null,
   "id": "41a19104",
   "metadata": {},
   "outputs": [],
   "source": [
    "# Filtering the DataFrame for Sci-Fi genre\n",
    "sci_fi_movies = imdb_data_filtered[imdb_data_filtered['Genre'].str.contains('Sci-Fi', case=False)]\n",
    "\n",
    "# Finding the highest-rated Sci-Fi movie\n",
    "highest_rated_sci_fi_movie = sci_fi_movies.loc[sci_fi_movies['IMDB_Rating'].idxmax()]\n",
    "highest_rated_sci_fi_movie_title = highest_rated_sci_fi_movie['Series_Title']\n",
    "\n",
    "print(\"Highest-rated Sci-Fi movie:\")\n",
    "print(highest_rated_sci_fi_movie_title)\n"
   ]
  },
  {
   "cell_type": "markdown",
   "id": "ffef514e",
   "metadata": {},
   "source": [
    "* So, Inception is the highest IMDB Rated movie\n",
    "\n",
    "\n",
    "Now, to gets its movieId from the movies_data dataset or filtered_data_with_imdb dataset"
   ]
  },
  {
   "cell_type": "code",
   "execution_count": null,
   "id": "d08637c3",
   "metadata": {},
   "outputs": [],
   "source": [
    "movie_id_inception = filtered_data_with_imdb.loc[filtered_data_with_imdb['title'] == 'Inception (2010)', 'movieId'].values[0]\n",
    "\n",
    "print(f\"The 'movieId' of 'Inception' is: \",{movie_id_inception})\n"
   ]
  }
 ],
 "metadata": {
  "kernelspec": {
   "display_name": "Python 3 (ipykernel)",
   "language": "python",
   "name": "python3"
  },
  "language_info": {
   "codemirror_mode": {
    "name": "ipython",
    "version": 3
   },
   "file_extension": ".py",
   "mimetype": "text/x-python",
   "name": "python",
   "nbconvert_exporter": "python",
   "pygments_lexer": "ipython3",
   "version": "3.11.5"
  }
 },
 "nbformat": 4,
 "nbformat_minor": 5
}
